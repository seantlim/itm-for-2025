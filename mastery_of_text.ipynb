{
 "cells": [
  {
   "cell_type": "code",
   "execution_count": 1,
   "id": "e8291975-03c8-41b1-aa15-1b0c091ea538",
   "metadata": {},
   "outputs": [],
   "source": [
    "import urllib.request\n",
    "import re\n",
    "from collections import Counter"
   ]
  },
  {
   "cell_type": "code",
   "execution_count": 2,
   "id": "9eb080f2-6ce9-4c8c-8288-a0c4bad3ea95",
   "metadata": {},
   "outputs": [],
   "source": [
    "url = \"https://www.gutenberg.org/cache/epub/10/pg10.txt\"\n",
    "response = urllib.request.urlopen(url)\n",
    "pg10_bytes = response.read()\n",
    "pg10 = pg10_bytes.decode('utf-8')"
   ]
  },
  {
   "cell_type": "code",
   "execution_count": 4,
   "id": "e49a2109-0d00-40e6-8e9b-ff5a104b7282",
   "metadata": {},
   "outputs": [
    {
     "name": "stdout",
     "output_type": "stream",
     "text": [
      "Number of lines: 99968\n"
     ]
    }
   ],
   "source": [
    "line_count = len(pg10.splitlines())\n",
    "print(\"Number of lines:\", line_count)"
   ]
  },
  {
   "cell_type": "code",
   "execution_count": 5,
   "id": "b18d28bf-5b41-4c74-af14-59fbc4ecf0a7",
   "metadata": {},
   "outputs": [
    {
     "name": "stdout",
     "output_type": "stream",
     "text": [
      "Number of words: 795227\n"
     ]
    }
   ],
   "source": [
    "words = re.findall(r'[a-zA-Z]+', pg10)\n",
    "word_count = len(words)\n",
    "print(\"Number of words:\", word_count)"
   ]
  },
  {
   "cell_type": "code",
   "execution_count": 8,
   "id": "447b416e-c01f-4f16-bde2-dfe33eb75c7e",
   "metadata": {},
   "outputs": [
    {
     "name": "stdout",
     "output_type": "stream",
     "text": [
      "Number of words of 'apostle': 47\n"
     ]
    }
   ],
   "source": [
    "apostle_number = sum(1 for word in words if word.lower() == 'apostle')\n",
    "print(\"Number of words of 'apostle':\", apostle_number)"
   ]
  },
  {
   "cell_type": "code",
   "execution_count": 9,
   "id": "75007dbe-5f66-43d7-a215-acd5f51fa00f",
   "metadata": {},
   "outputs": [
    {
     "name": "stdout",
     "output_type": "stream",
     "text": [
      "Most common word, which is 'the' (appears 64309 times)\n"
     ]
    }
   ],
   "source": [
    "word_freq = Counter(word.lower() for word in words)\n",
    "most_common_word, freq = word_freq.most_common(1)[0]\n",
    "print(f\"Most common word, which is '{most_common_word}' (appears {freq} times)\")"
   ]
  },
  {
   "cell_type": "code",
   "execution_count": null,
   "id": "1c02c366-a181-488b-b9cd-2b43ee2b8c78",
   "metadata": {},
   "outputs": [],
   "source": []
  }
 ],
 "metadata": {
  "kernelspec": {
   "display_name": "Python [conda env:base] *",
   "language": "python",
   "name": "conda-base-py"
  },
  "language_info": {
   "codemirror_mode": {
    "name": "ipython",
    "version": 3
   },
   "file_extension": ".py",
   "mimetype": "text/x-python",
   "name": "python",
   "nbconvert_exporter": "python",
   "pygments_lexer": "ipython3",
   "version": "3.12.7"
  }
 },
 "nbformat": 4,
 "nbformat_minor": 5
}
